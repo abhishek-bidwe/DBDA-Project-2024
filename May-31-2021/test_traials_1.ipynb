{
 "cells": [
  {
   "cell_type": "code",
   "execution_count": 3,
   "id": "520be415-8a5c-48e4-ab61-55553f69f8ea",
   "metadata": {},
   "outputs": [
    {
     "data": {
      "text/html": [
       "<div>\n",
       "<style scoped>\n",
       "    .dataframe tbody tr th:only-of-type {\n",
       "        vertical-align: middle;\n",
       "    }\n",
       "\n",
       "    .dataframe tbody tr th {\n",
       "        vertical-align: top;\n",
       "    }\n",
       "\n",
       "    .dataframe thead th {\n",
       "        text-align: right;\n",
       "    }\n",
       "</style>\n",
       "<table border=\"1\" class=\"dataframe\">\n",
       "  <thead>\n",
       "    <tr style=\"text-align: right;\">\n",
       "      <th></th>\n",
       "      <th>Country</th>\n",
       "      <th>Year</th>\n",
       "      <th>AverageTemperature</th>\n",
       "      <th>Code</th>\n",
       "      <th>Annual nitrous oxide emissions in CO₂ equivalents</th>\n",
       "      <th>Annual methane emissions in CO₂ equivalents</th>\n",
       "      <th>Annual CO₂ emissions</th>\n",
       "    </tr>\n",
       "  </thead>\n",
       "  <tbody>\n",
       "    <tr>\n",
       "      <th>0</th>\n",
       "      <td>Afghanistan</td>\n",
       "      <td>1850</td>\n",
       "      <td>13.185427</td>\n",
       "      <td>AFG</td>\n",
       "      <td>223008.40</td>\n",
       "      <td>3594926.5</td>\n",
       "      <td>3520884.0</td>\n",
       "    </tr>\n",
       "    <tr>\n",
       "      <th>1</th>\n",
       "      <td>Afghanistan</td>\n",
       "      <td>1851</td>\n",
       "      <td>13.391073</td>\n",
       "      <td>AFG</td>\n",
       "      <td>227659.61</td>\n",
       "      <td>3615134.5</td>\n",
       "      <td>3561188.2</td>\n",
       "    </tr>\n",
       "    <tr>\n",
       "      <th>2</th>\n",
       "      <td>Afghanistan</td>\n",
       "      <td>1852</td>\n",
       "      <td>13.337948</td>\n",
       "      <td>AFG</td>\n",
       "      <td>232190.92</td>\n",
       "      <td>3635346.8</td>\n",
       "      <td>3596619.0</td>\n",
       "    </tr>\n",
       "    <tr>\n",
       "      <th>3</th>\n",
       "      <td>Afghanistan</td>\n",
       "      <td>1853</td>\n",
       "      <td>13.270833</td>\n",
       "      <td>AFG</td>\n",
       "      <td>236528.19</td>\n",
       "      <td>3655563.5</td>\n",
       "      <td>3630340.0</td>\n",
       "    </tr>\n",
       "    <tr>\n",
       "      <th>4</th>\n",
       "      <td>Afghanistan</td>\n",
       "      <td>1854</td>\n",
       "      <td>13.481042</td>\n",
       "      <td>AFG</td>\n",
       "      <td>240597.22</td>\n",
       "      <td>3675785.0</td>\n",
       "      <td>3662827.5</td>\n",
       "    </tr>\n",
       "  </tbody>\n",
       "</table>\n",
       "</div>"
      ],
      "text/plain": [
       "       Country  Year  AverageTemperature Code  \\\n",
       "0  Afghanistan  1850           13.185427  AFG   \n",
       "1  Afghanistan  1851           13.391073  AFG   \n",
       "2  Afghanistan  1852           13.337948  AFG   \n",
       "3  Afghanistan  1853           13.270833  AFG   \n",
       "4  Afghanistan  1854           13.481042  AFG   \n",
       "\n",
       "   Annual nitrous oxide emissions in CO₂ equivalents  \\\n",
       "0                                          223008.40   \n",
       "1                                          227659.61   \n",
       "2                                          232190.92   \n",
       "3                                          236528.19   \n",
       "4                                          240597.22   \n",
       "\n",
       "   Annual methane emissions in CO₂ equivalents  Annual CO₂ emissions  \n",
       "0                                    3594926.5             3520884.0  \n",
       "1                                    3615134.5             3561188.2  \n",
       "2                                    3635346.8             3596619.0  \n",
       "3                                    3655563.5             3630340.0  \n",
       "4                                    3675785.0             3662827.5  "
      ]
     },
     "execution_count": 3,
     "metadata": {},
     "output_type": "execute_result"
    }
   ],
   "source": [
    "df.head()"
   ]
  },
  {
   "cell_type": "code",
   "execution_count": 12,
   "id": "dcdf65eb-3c4c-4c37-9ba5-cf3d9232c1cd",
   "metadata": {},
   "outputs": [
    {
     "data": {
      "text/plain": [
       "Index(['Country', 'Year', 'AverageTemperature', 'Code',\n",
       "       'Annual nitrous oxide emissions in CO₂ equivalents',\n",
       "       'Annual methane emissions in CO₂ equivalents', 'Annual CO₂ emissions'],\n",
       "      dtype='object')"
      ]
     },
     "execution_count": 12,
     "metadata": {},
     "output_type": "execute_result"
    }
   ],
   "source": [
    "df.columns"
   ]
  },
  {
   "cell_type": "code",
   "execution_count": 18,
   "id": "332eb1c7-2d51-484e-8933-86bfcf77faf5",
   "metadata": {},
   "outputs": [],
   "source": [
    "import pandas as pd\n",
    "from sklearn.model_selection import train_test_split\n",
    "from sklearn.linear_model import LinearRegression\n",
    "from sklearn.preprocessing import PolynomialFeatures\n",
    "from sklearn.ensemble import RandomForestRegressor\n",
    "import matplotlib.pyplot as plt\n",
    "from statsmodels.tsa.arima.model import ARIMA\n",
    "import numpy as np\n",
    "\n",
    "# Load dataset\n",
    "data = pd.read_csv('merged_data_inner.csv')\n",
    "\n",
    "# Preprocessing (aggregating to global level)\n",
    "global_data = data.groupby('Year')['AverageTemperature'].mean().reset_index()\n",
    "\n",
    "# Feature selection\n",
    "X = data[['Annual CO₂ emissions', 'Annual methane emissions in CO₂ equivalents', 'Annual nitrous oxide emissions in CO₂ equivalents']]\n",
    "y = data['AverageTemperature']\n",
    "\n",
    "# Split into training and test sets\n",
    "X_train, X_test, y_train, y_test = train_test_split(X, y, test_size=0.2, random_state=42)"
   ]
  },
  {
   "cell_type": "code",
   "execution_count": 24,
   "id": "2d4db1b7-7974-4b38-a31f-ad0ed8ec3b90",
   "metadata": {},
   "outputs": [
    {
     "name": "stdout",
     "output_type": "stream",
     "text": [
      "[13.37793866 13.37793866 13.37793866 13.37793866 13.37793866 13.37793866\n",
      " 13.37793866 13.37793866 13.37793866 13.37793866 13.37793866 13.37793866\n",
      " 13.37793866 13.37793866 13.37793866 13.37793866 13.37793866 13.37793866\n",
      " 13.37793866 13.37793866 13.37793866 13.37793866 13.37793866 13.37793866\n",
      " 13.37793866 13.37793866 13.37793866 13.37793866 13.37793866 13.37793866\n",
      " 13.37793866 13.37793866 13.37793866 13.37793866 13.37793866 13.37793866\n",
      " 13.37793866 13.37793866 13.37793866 13.37793866 13.37793866 13.37793866\n",
      " 13.37793866 13.37793866 13.37793866 13.37793866 13.37793866 13.37793866\n",
      " 13.37793866 13.37793866 13.37793866 13.37793866 13.37793866 13.37793866\n",
      " 13.37793866 13.37793866 13.37793866 13.37793866 13.37793866 13.37793866\n",
      " 13.37793866 13.37793866 13.37793866 13.37793866 13.37793866 13.37793866\n",
      " 13.37793866 13.37793866 13.37793866 13.37793866 13.37793866 13.37793866\n",
      " 13.37793866 13.37793866 13.37793866 13.37793866 13.37793866 13.37793866\n",
      " 13.37793866 13.37793866 13.37793866 13.37793866 13.37793866 13.37793866\n",
      " 13.37793866 13.37793866]\n",
      "17.21968751610539\n"
     ]
    },
    {
     "name": "stderr",
     "output_type": "stream",
     "text": [
      "C:\\Users\\Admin\\AppData\\Local\\Programs\\Python\\Python312\\Lib\\site-packages\\sklearn\\base.py:493: UserWarning: X does not have valid feature names, but RandomForestRegressor was fitted with feature names\n",
      "  warnings.warn(\n"
     ]
    },
    {
     "ename": "IndexError",
     "evalue": "index 0 is out of bounds for axis 0 with size 0",
     "output_type": "error",
     "traceback": [
      "\u001b[1;31m---------------------------------------------------------------------------\u001b[0m",
      "\u001b[1;31mIndexError\u001b[0m                                Traceback (most recent call last)",
      "Cell \u001b[1;32mIn[24], line 32\u001b[0m\n\u001b[0;32m     30\u001b[0m baseline_temp \u001b[38;5;241m=\u001b[39m global_data[\u001b[38;5;124m'\u001b[39m\u001b[38;5;124mAverageTemperature\u001b[39m\u001b[38;5;124m'\u001b[39m]\u001b[38;5;241m.\u001b[39miloc[\u001b[38;5;241m0\u001b[39m]\n\u001b[0;32m     31\u001b[0m \u001b[38;5;28mprint\u001b[39m(baseline_temp)\n\u001b[1;32m---> 32\u001b[0m breach_year \u001b[38;5;241m=\u001b[39m future_years[\u001b[43mnp\u001b[49m\u001b[38;5;241;43m.\u001b[39;49m\u001b[43mwhere\u001b[49m\u001b[43m(\u001b[49m\u001b[43mfuture_temps\u001b[49m\u001b[43m \u001b[49m\u001b[38;5;241;43m>\u001b[39;49m\u001b[43m \u001b[49m\u001b[43mbaseline_temp\u001b[49m\u001b[43m \u001b[49m\u001b[38;5;241;43m+\u001b[39;49m\u001b[43m \u001b[49m\u001b[38;5;241;43m2\u001b[39;49m\u001b[43m)\u001b[49m\u001b[43m[\u001b[49m\u001b[38;5;241;43m0\u001b[39;49m\u001b[43m]\u001b[49m\u001b[43m[\u001b[49m\u001b[38;5;241;43m0\u001b[39;49m\u001b[43m]\u001b[49m]\n\u001b[0;32m     34\u001b[0m \u001b[38;5;28mprint\u001b[39m(\u001b[38;5;124mf\u001b[39m\u001b[38;5;124m\"\u001b[39m\u001b[38;5;124mThe global temperature is predicted to breach the 2 degrees Celsius mark in the year \u001b[39m\u001b[38;5;132;01m{\u001b[39;00mbreach_year\u001b[38;5;132;01m}\u001b[39;00m\u001b[38;5;124m.\u001b[39m\u001b[38;5;124m\"\u001b[39m)\n",
      "\u001b[1;31mIndexError\u001b[0m: index 0 is out of bounds for axis 0 with size 0"
     ]
    }
   ],
   "source": [
    "\n",
    "\n",
    "# Linear Regression\n",
    "lin_reg = LinearRegression()\n",
    "lin_reg.fit(X_train, y_train)\n",
    "\n",
    "# Polynomial Regression\n",
    "poly = PolynomialFeatures(degree=3)\n",
    "X_poly = poly.fit_transform(X_train)\n",
    "poly_reg = LinearRegression()\n",
    "poly_reg.fit(X_poly, y_train)\n",
    "\n",
    "# Random Forest\n",
    "rf_reg = RandomForestRegressor(n_estimators=100, random_state=42)\n",
    "rf_reg.fit(X_train, y_train)\n",
    "\n",
    "# ARIMA\n",
    "arima_model = ARIMA(global_data['AverageTemperature'], order=(5,1,0))\n",
    "arima_model_fit = arima_model.fit()\n",
    "\n",
    "# Forecast future temperatures\n",
    "future_years = np.arange(2014, 2100)\n",
    "future_co2 = np.linspace(X['Annual CO₂ emissions'].max(), X['Annual CO₂ emissions'].max() * 200, len(future_years))\n",
    "future_ch4 = np.linspace(X['Annual methane emissions in CO₂ equivalents'].max(), X['Annual methane emissions in CO₂ equivalents'].max() * 20, len(future_years))\n",
    "future_no2 = np.linspace(X['Annual nitrous oxide emissions in CO₂ equivalents'].max(), X['Annual nitrous oxide emissions in CO₂ equivalents'].max() * 5, len(future_years))\n",
    "future_X = np.column_stack([future_co2, future_ch4, future_no2])\n",
    "\n",
    "# Predict using the best model (e.g., Random Forest)\n",
    "future_temps = rf_reg.predict(future_X)\n",
    "print(future_temps)\n",
    "# Identify the year temperature breaches 2 degrees above baseline\n",
    "baseline_temp = global_data['AverageTemperature'].iloc[0]\n",
    "print(baseline_temp)\n",
    "breach_year = future_years[np.where(future_temps > baseline_temp + 2)[0][0]]\n",
    "\n",
    "print(f\"The global temperature is predicted to breach the 2 degrees Celsius mark in the year {breach_year}.\")\n"
   ]
  },
  {
   "cell_type": "code",
   "execution_count": 16,
   "id": "23e0adca-0369-4706-94a8-1a9e859581a9",
   "metadata": {},
   "outputs": [],
   "source": [
    "import pandas as pd\n",
    "from sklearn.model_selection import train_test_split\n",
    "from sklearn.linear_model import LinearRegression\n",
    "from sklearn.preprocessing import PolynomialFeatures\n",
    "from sklearn.ensemble import RandomForestRegressor\n",
    "import matplotlib.pyplot as plt\n",
    "from statsmodels.tsa.arima.model import ARIMA\n",
    "import numpy as np\n",
    "\n",
    "# Load dataset\n",
    "data = pd.read_csv('merged_data_inner.csv')\n",
    "\n",
    "# Preprocessing (aggregating to global level)\n",
    "global_data = data.groupby('Year')['AverageTemperature'].mean().reset_index()"
   ]
  },
  {
   "cell_type": "code",
   "execution_count": 17,
   "id": "b6c534b4-6e4c-479f-ab57-355af37dce47",
   "metadata": {},
   "outputs": [
    {
     "data": {
      "text/html": [
       "<div>\n",
       "<style scoped>\n",
       "    .dataframe tbody tr th:only-of-type {\n",
       "        vertical-align: middle;\n",
       "    }\n",
       "\n",
       "    .dataframe tbody tr th {\n",
       "        vertical-align: top;\n",
       "    }\n",
       "\n",
       "    .dataframe thead th {\n",
       "        text-align: right;\n",
       "    }\n",
       "</style>\n",
       "<table border=\"1\" class=\"dataframe\">\n",
       "  <thead>\n",
       "    <tr style=\"text-align: right;\">\n",
       "      <th></th>\n",
       "      <th>Year</th>\n",
       "      <th>AverageTemperature</th>\n",
       "    </tr>\n",
       "  </thead>\n",
       "  <tbody>\n",
       "    <tr>\n",
       "      <th>0</th>\n",
       "      <td>1850</td>\n",
       "      <td>17.219688</td>\n",
       "    </tr>\n",
       "    <tr>\n",
       "      <th>1</th>\n",
       "      <td>1851</td>\n",
       "      <td>17.507352</td>\n",
       "    </tr>\n",
       "    <tr>\n",
       "      <th>2</th>\n",
       "      <td>1852</td>\n",
       "      <td>17.495718</td>\n",
       "    </tr>\n",
       "    <tr>\n",
       "      <th>3</th>\n",
       "      <td>1853</td>\n",
       "      <td>17.482573</td>\n",
       "    </tr>\n",
       "    <tr>\n",
       "      <th>4</th>\n",
       "      <td>1854</td>\n",
       "      <td>17.474896</td>\n",
       "    </tr>\n",
       "  </tbody>\n",
       "</table>\n",
       "</div>"
      ],
      "text/plain": [
       "   Year  AverageTemperature\n",
       "0  1850           17.219688\n",
       "1  1851           17.507352\n",
       "2  1852           17.495718\n",
       "3  1853           17.482573\n",
       "4  1854           17.474896"
      ]
     },
     "execution_count": 17,
     "metadata": {},
     "output_type": "execute_result"
    }
   ],
   "source": [
    "global_data.head()"
   ]
  },
  {
   "cell_type": "code",
   "execution_count": null,
   "id": "ac17195c-57fe-495f-bf7a-3810642eede0",
   "metadata": {},
   "outputs": [],
   "source": []
  }
 ],
 "metadata": {
  "kernelspec": {
   "display_name": "Python 3 (ipykernel)",
   "language": "python",
   "name": "python3"
  },
  "language_info": {
   "codemirror_mode": {
    "name": "ipython",
    "version": 3
   },
   "file_extension": ".py",
   "mimetype": "text/x-python",
   "name": "python",
   "nbconvert_exporter": "python",
   "pygments_lexer": "ipython3",
   "version": "3.12.2"
  }
 },
 "nbformat": 4,
 "nbformat_minor": 5
}
